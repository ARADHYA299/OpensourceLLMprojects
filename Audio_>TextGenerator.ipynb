{
  "nbformat": 4,
  "nbformat_minor": 0,
  "metadata": {
    "colab": {
      "provenance": [],
      "mount_file_id": "1DrFhWl60zHRBbXNh8K5PVJ3atS6-_rq0",
      "authorship_tag": "ABX9TyPnH0nvcwF7YmSkQ9rJNlyd",
      "include_colab_link": true
    },
    "kernelspec": {
      "name": "python3",
      "display_name": "Python 3"
    },
    "language_info": {
      "name": "python"
    },
    "widgets": {
      "application/vnd.jupyter.widget-state+json": {
        "f1841a74f1474265873f3c5aab844db7": {
          "model_module": "@jupyter-widgets/controls",
          "model_name": "HBoxModel",
          "model_module_version": "1.5.0",
          "state": {
            "_dom_classes": [],
            "_model_module": "@jupyter-widgets/controls",
            "_model_module_version": "1.5.0",
            "_model_name": "HBoxModel",
            "_view_count": null,
            "_view_module": "@jupyter-widgets/controls",
            "_view_module_version": "1.5.0",
            "_view_name": "HBoxView",
            "box_style": "",
            "children": [
              "IPY_MODEL_c3b8448ba5394244ab1111f61f418b7d",
              "IPY_MODEL_4736301713654cd7a420ea879f37d383",
              "IPY_MODEL_00c41fb5b7634c568ac1dee92791d57b"
            ],
            "layout": "IPY_MODEL_6f05be45844d4c3a815e40fdc4a594ab"
          }
        },
        "c3b8448ba5394244ab1111f61f418b7d": {
          "model_module": "@jupyter-widgets/controls",
          "model_name": "HTMLModel",
          "model_module_version": "1.5.0",
          "state": {
            "_dom_classes": [],
            "_model_module": "@jupyter-widgets/controls",
            "_model_module_version": "1.5.0",
            "_model_name": "HTMLModel",
            "_view_count": null,
            "_view_module": "@jupyter-widgets/controls",
            "_view_module_version": "1.5.0",
            "_view_name": "HTMLView",
            "description": "",
            "description_tooltip": null,
            "layout": "IPY_MODEL_b3adba90a87f45b6833a6ac3b12b890a",
            "placeholder": "​",
            "style": "IPY_MODEL_a90c6302ee3d4fa29603e73cf3d4232e",
            "value": "Loading checkpoint shards:  50%"
          }
        },
        "4736301713654cd7a420ea879f37d383": {
          "model_module": "@jupyter-widgets/controls",
          "model_name": "FloatProgressModel",
          "model_module_version": "1.5.0",
          "state": {
            "_dom_classes": [],
            "_model_module": "@jupyter-widgets/controls",
            "_model_module_version": "1.5.0",
            "_model_name": "FloatProgressModel",
            "_view_count": null,
            "_view_module": "@jupyter-widgets/controls",
            "_view_module_version": "1.5.0",
            "_view_name": "ProgressView",
            "bar_style": "",
            "description": "",
            "description_tooltip": null,
            "layout": "IPY_MODEL_c848f73447254b88ac6ce37a876c0c1a",
            "max": 2,
            "min": 0,
            "orientation": "horizontal",
            "style": "IPY_MODEL_f8189287db5f4bb29b47b3e9156c30d0",
            "value": 1
          }
        },
        "00c41fb5b7634c568ac1dee92791d57b": {
          "model_module": "@jupyter-widgets/controls",
          "model_name": "HTMLModel",
          "model_module_version": "1.5.0",
          "state": {
            "_dom_classes": [],
            "_model_module": "@jupyter-widgets/controls",
            "_model_module_version": "1.5.0",
            "_model_name": "HTMLModel",
            "_view_count": null,
            "_view_module": "@jupyter-widgets/controls",
            "_view_module_version": "1.5.0",
            "_view_name": "HTMLView",
            "description": "",
            "description_tooltip": null,
            "layout": "IPY_MODEL_42a73b8f076a438d8f1fb10dc8714e93",
            "placeholder": "​",
            "style": "IPY_MODEL_5d8f460ab0b141acb9af3574a441ff72",
            "value": " 1/2 [00:51&lt;00:51, 51.43s/it]"
          }
        },
        "6f05be45844d4c3a815e40fdc4a594ab": {
          "model_module": "@jupyter-widgets/base",
          "model_name": "LayoutModel",
          "model_module_version": "1.2.0",
          "state": {
            "_model_module": "@jupyter-widgets/base",
            "_model_module_version": "1.2.0",
            "_model_name": "LayoutModel",
            "_view_count": null,
            "_view_module": "@jupyter-widgets/base",
            "_view_module_version": "1.2.0",
            "_view_name": "LayoutView",
            "align_content": null,
            "align_items": null,
            "align_self": null,
            "border": null,
            "bottom": null,
            "display": null,
            "flex": null,
            "flex_flow": null,
            "grid_area": null,
            "grid_auto_columns": null,
            "grid_auto_flow": null,
            "grid_auto_rows": null,
            "grid_column": null,
            "grid_gap": null,
            "grid_row": null,
            "grid_template_areas": null,
            "grid_template_columns": null,
            "grid_template_rows": null,
            "height": null,
            "justify_content": null,
            "justify_items": null,
            "left": null,
            "margin": null,
            "max_height": null,
            "max_width": null,
            "min_height": null,
            "min_width": null,
            "object_fit": null,
            "object_position": null,
            "order": null,
            "overflow": null,
            "overflow_x": null,
            "overflow_y": null,
            "padding": null,
            "right": null,
            "top": null,
            "visibility": null,
            "width": null
          }
        },
        "b3adba90a87f45b6833a6ac3b12b890a": {
          "model_module": "@jupyter-widgets/base",
          "model_name": "LayoutModel",
          "model_module_version": "1.2.0",
          "state": {
            "_model_module": "@jupyter-widgets/base",
            "_model_module_version": "1.2.0",
            "_model_name": "LayoutModel",
            "_view_count": null,
            "_view_module": "@jupyter-widgets/base",
            "_view_module_version": "1.2.0",
            "_view_name": "LayoutView",
            "align_content": null,
            "align_items": null,
            "align_self": null,
            "border": null,
            "bottom": null,
            "display": null,
            "flex": null,
            "flex_flow": null,
            "grid_area": null,
            "grid_auto_columns": null,
            "grid_auto_flow": null,
            "grid_auto_rows": null,
            "grid_column": null,
            "grid_gap": null,
            "grid_row": null,
            "grid_template_areas": null,
            "grid_template_columns": null,
            "grid_template_rows": null,
            "height": null,
            "justify_content": null,
            "justify_items": null,
            "left": null,
            "margin": null,
            "max_height": null,
            "max_width": null,
            "min_height": null,
            "min_width": null,
            "object_fit": null,
            "object_position": null,
            "order": null,
            "overflow": null,
            "overflow_x": null,
            "overflow_y": null,
            "padding": null,
            "right": null,
            "top": null,
            "visibility": null,
            "width": null
          }
        },
        "a90c6302ee3d4fa29603e73cf3d4232e": {
          "model_module": "@jupyter-widgets/controls",
          "model_name": "DescriptionStyleModel",
          "model_module_version": "1.5.0",
          "state": {
            "_model_module": "@jupyter-widgets/controls",
            "_model_module_version": "1.5.0",
            "_model_name": "DescriptionStyleModel",
            "_view_count": null,
            "_view_module": "@jupyter-widgets/base",
            "_view_module_version": "1.2.0",
            "_view_name": "StyleView",
            "description_width": ""
          }
        },
        "c848f73447254b88ac6ce37a876c0c1a": {
          "model_module": "@jupyter-widgets/base",
          "model_name": "LayoutModel",
          "model_module_version": "1.2.0",
          "state": {
            "_model_module": "@jupyter-widgets/base",
            "_model_module_version": "1.2.0",
            "_model_name": "LayoutModel",
            "_view_count": null,
            "_view_module": "@jupyter-widgets/base",
            "_view_module_version": "1.2.0",
            "_view_name": "LayoutView",
            "align_content": null,
            "align_items": null,
            "align_self": null,
            "border": null,
            "bottom": null,
            "display": null,
            "flex": null,
            "flex_flow": null,
            "grid_area": null,
            "grid_auto_columns": null,
            "grid_auto_flow": null,
            "grid_auto_rows": null,
            "grid_column": null,
            "grid_gap": null,
            "grid_row": null,
            "grid_template_areas": null,
            "grid_template_columns": null,
            "grid_template_rows": null,
            "height": null,
            "justify_content": null,
            "justify_items": null,
            "left": null,
            "margin": null,
            "max_height": null,
            "max_width": null,
            "min_height": null,
            "min_width": null,
            "object_fit": null,
            "object_position": null,
            "order": null,
            "overflow": null,
            "overflow_x": null,
            "overflow_y": null,
            "padding": null,
            "right": null,
            "top": null,
            "visibility": null,
            "width": null
          }
        },
        "f8189287db5f4bb29b47b3e9156c30d0": {
          "model_module": "@jupyter-widgets/controls",
          "model_name": "ProgressStyleModel",
          "model_module_version": "1.5.0",
          "state": {
            "_model_module": "@jupyter-widgets/controls",
            "_model_module_version": "1.5.0",
            "_model_name": "ProgressStyleModel",
            "_view_count": null,
            "_view_module": "@jupyter-widgets/base",
            "_view_module_version": "1.2.0",
            "_view_name": "StyleView",
            "bar_color": null,
            "description_width": ""
          }
        },
        "42a73b8f076a438d8f1fb10dc8714e93": {
          "model_module": "@jupyter-widgets/base",
          "model_name": "LayoutModel",
          "model_module_version": "1.2.0",
          "state": {
            "_model_module": "@jupyter-widgets/base",
            "_model_module_version": "1.2.0",
            "_model_name": "LayoutModel",
            "_view_count": null,
            "_view_module": "@jupyter-widgets/base",
            "_view_module_version": "1.2.0",
            "_view_name": "LayoutView",
            "align_content": null,
            "align_items": null,
            "align_self": null,
            "border": null,
            "bottom": null,
            "display": null,
            "flex": null,
            "flex_flow": null,
            "grid_area": null,
            "grid_auto_columns": null,
            "grid_auto_flow": null,
            "grid_auto_rows": null,
            "grid_column": null,
            "grid_gap": null,
            "grid_row": null,
            "grid_template_areas": null,
            "grid_template_columns": null,
            "grid_template_rows": null,
            "height": null,
            "justify_content": null,
            "justify_items": null,
            "left": null,
            "margin": null,
            "max_height": null,
            "max_width": null,
            "min_height": null,
            "min_width": null,
            "object_fit": null,
            "object_position": null,
            "order": null,
            "overflow": null,
            "overflow_x": null,
            "overflow_y": null,
            "padding": null,
            "right": null,
            "top": null,
            "visibility": null,
            "width": null
          }
        },
        "5d8f460ab0b141acb9af3574a441ff72": {
          "model_module": "@jupyter-widgets/controls",
          "model_name": "DescriptionStyleModel",
          "model_module_version": "1.5.0",
          "state": {
            "_model_module": "@jupyter-widgets/controls",
            "_model_module_version": "1.5.0",
            "_model_name": "DescriptionStyleModel",
            "_view_count": null,
            "_view_module": "@jupyter-widgets/base",
            "_view_module_version": "1.2.0",
            "_view_name": "StyleView",
            "description_width": ""
          }
        }
      }
    }
  },
  "cells": [
    {
      "cell_type": "markdown",
      "metadata": {
        "id": "view-in-github",
        "colab_type": "text"
      },
      "source": [
        "<a href=\"https://colab.research.google.com/github/ARADHYA299/OpensourceLLMprojects/blob/main/Audio_%3ETextGenerator.ipynb\" target=\"_parent\"><img src=\"https://colab.research.google.com/assets/colab-badge.svg\" alt=\"Open In Colab\"/></a>"
      ]
    },
    {
      "cell_type": "code",
      "execution_count": 2,
      "metadata": {
        "id": "eikow31f2CGt"
      },
      "outputs": [],
      "source": [
        "!pip install -q openai-whisper transformers google-generativeai deepseek openai numpy bitsandbytes"
      ]
    },
    {
      "cell_type": "code",
      "source": [
        "import whisper\n",
        "import google.generativeai as genai\n",
        "from transformers import AutoTokenizer, AutoModelForCausalLM , BitsAndBytesConfig , TextStreamer\n",
        "import torch\n",
        "import numpy as np\n",
        "import openai"
      ],
      "metadata": {
        "id": "YDz0M6qeFmX8"
      },
      "execution_count": 3,
      "outputs": []
    },
    {
      "cell_type": "code",
      "source": [
        "Audio_model  = \"whisper-1\"\n",
        "Falcon_model = \"tiiuae/falcon-7b-instruct\""
      ],
      "metadata": {
        "id": "joY-dGAZGjiN"
      },
      "execution_count": 4,
      "outputs": []
    },
    {
      "cell_type": "code",
      "source": [
        "from google.colab import drive\n",
        "drive.mount(\"/content/drive\")\n",
        "audio_filename = \"/content/drive/My Drive/Colab Notebooks/denver_extract.mp3\""
      ],
      "metadata": {
        "colab": {
          "base_uri": "https://localhost:8080/"
        },
        "id": "wKJLVzayG-8l",
        "outputId": "213933db-18ac-4a14-b61c-e69338156b30"
      },
      "execution_count": 5,
      "outputs": [
        {
          "output_type": "stream",
          "name": "stdout",
          "text": [
            "Drive already mounted at /content/drive; to attempt to forcibly remount, call drive.mount(\"/content/drive\", force_remount=True).\n"
          ]
        }
      ]
    },
    {
      "cell_type": "code",
      "source": [
        "from getpass import getpass\n",
        "from huggingface_hub import login\n",
        "\n",
        "hf_token = getpass(\"my-hf-token\")\n",
        "\n",
        "login(hf_token, add_to_git_credential=True)"
      ],
      "metadata": {
        "colab": {
          "base_uri": "https://localhost:8080/"
        },
        "id": "gBBQoCz4IV-x",
        "outputId": "dfc99d8e-9e85-408b-da8e-110d483bf398"
      },
      "execution_count": 6,
      "outputs": [
        {
          "name": "stdout",
          "output_type": "stream",
          "text": [
            "my-hf-token··········\n"
          ]
        }
      ]
    },
    {
      "cell_type": "code",
      "source": [
        "model = whisper.load_model(\"base\")"
      ],
      "metadata": {
        "colab": {
          "base_uri": "https://localhost:8080/"
        },
        "id": "22ZO0JztOOzW",
        "outputId": "efb0bcdf-dbf8-4694-882a-e7e760a0a38e"
      },
      "execution_count": 7,
      "outputs": [
        {
          "output_type": "stream",
          "name": "stderr",
          "text": [
            "/usr/local/lib/python3.11/dist-packages/whisper/__init__.py:150: FutureWarning: You are using `torch.load` with `weights_only=False` (the current default value), which uses the default pickle module implicitly. It is possible to construct malicious pickle data which will execute arbitrary code during unpickling (See https://github.com/pytorch/pytorch/blob/main/SECURITY.md#untrusted-models for more details). In a future release, the default value for `weights_only` will be flipped to `True`. This limits the functions that could be executed during unpickling. Arbitrary objects will no longer be allowed to be loaded via this mode unless they are explicitly allowlisted by the user via `torch.serialization.add_safe_globals`. We recommend you start setting `weights_only=True` for any use case where you don't have full control of the loaded file. Please open an issue on GitHub for any issues related to this experimental feature.\n",
            "  checkpoint = torch.load(fp, map_location=device)\n"
          ]
        }
      ]
    },
    {
      "cell_type": "code",
      "source": [
        "from google.colab import userdata\n",
        "api_key = userdata.get('GOOGLE_API_KEY')\n",
        "genai.configure(api_key=api_key)"
      ],
      "metadata": {
        "id": "VEpHUSj9KudE"
      },
      "execution_count": 8,
      "outputs": []
    },
    {
      "cell_type": "code",
      "source": [
        "transcription = model.transcribe(audio_filename)\n",
        "print(transcription)"
      ],
      "metadata": {
        "colab": {
          "base_uri": "https://localhost:8080/"
        },
        "id": "T-hJS9ffNUuQ",
        "outputId": "5e064d6b-28e6-4fd8-aa2f-1018bf89eb1d"
      },
      "execution_count": 9,
      "outputs": [
        {
          "output_type": "stream",
          "name": "stderr",
          "text": [
            "/usr/local/lib/python3.11/dist-packages/whisper/transcribe.py:126: UserWarning: FP16 is not supported on CPU; using FP32 instead\n",
            "  warnings.warn(\"FP16 is not supported on CPU; using FP32 instead\")\n"
          ]
        },
        {
          "output_type": "stream",
          "name": "stdout",
          "text": [
            "{'text': \" kind of the confluence of this whole idea of the confluence week, the merging of two rivers, and as we've kind of seen recently in politics and in the world, there's a lot of situations where water is very important right now and it's a very big issue. So that is the reason the back of the logo is considered water. So let you see the creation of the logo here. And yes, so that basically kind of sums up the reason behind the logo and all the meanings behind the symbolism. And you'll hear a little bit more about our confluence week is basically highlighting all of these indigenous events and things that are happening around Denver so that we can kind of bring more people together and kind of share this whole idea of indigenous peoples day. So thank you. Thank you so much and thanks for your leadership. All right. Welcome to the Denver City Council meeting of Monday, October 9th, please rise with the pledge of allegiance by Councilman Lopez. One makes me under God in the visible liberty of the justice for all. All right. Thank you Councilman Lopez. Madam Secretary, roll call. Black, clerk, espinosa, here, Flynn, Gilmore, here, here, Cashman, here, can each, here, Lopez, new, here, or Teiga, here, Sussan, Mr. President, here, 11 present, 11 members present, we do have a quorum. Approval of the minutes, are there any corrections to the minutes of October 2nd? Seeing none, minutes of October 2nd, stand approved council announcement. So are there any announcements by members of council? Councilman Clark. Thank you, Mr. President. I just want to do invite everyone down to the first ever Halloween parade on Broadway in Lucky District 7. It will happen on Saturday, October 21st at 6 o'clock PM. It will move along Broadway from 3rd to Alameda. It's going to be a fun family friendly event. Everyone's invited to come down. Where costume? There will be candy for the kids and there are teaky zombies and 29 herses and all kinds of fun and funky stuff on the fun and funky part of Broadway. So please join us October 21st at 6 o'clock for the Broadway Halloween parade. Thank you, Mr. President. All right. Thank you, Councilman Clark. We'll be there. All right. Presentations. Madam Secretary, we have any presentations? None, Mr. President. Communications. Do we have any communications? None, Mr. President. We do have one proclamation this evening, proclamation 1127, an observance of the annual Indigenous People's Day in the City and County of Denver. Councilman Loplayes, would you please read it? Thank you, Mr. President. We're fried. Proclamation number 17, well let me just say this proclamation number 1127 series of 2017 and observance of the second annual Indigenous People's Day in the City and County of Denver. Whereas the Council of the City and County of Denver recognizes that the Indigenous peoples have lived and flourished on the lands known as the Ametica since time immemorial and that Denver and the surrounding communities are built upon the ancestral homelands of numerous Indigenous tribes which include the southern Newt, the Yut Mountain, Yut tribes of Colorado and whereas the tribal homelands and seasonal encampments of the Arapoho and Shamb people along the banks of the Cherry Creek and South Plot River confluence gave bearing to the future settlements that would become the birthplace of the Mile High City. And whereas Colorado encompasses the ancestral homelands of 48 tribes in the City and County of Denver and surrounding communities are home to the descendants of approximately 100 tribal nations. And whereas on October 3rd 2016 the City and County of Denver unanimously passed Council Bill 801 series of 2016 officially designating the second Monday of October of each year as Indigenous People's Day in Denver, Colorado. And whereas the Council of the City and County of Denver continues to recognize and value the vast contributions made to community, made to the community through Indigenous People's Knowledge, Science, Philosophy, Arts and Culture and through these contributions the City of Denver has developed and thrived. Whereas the Indigenous community especially Yut have made great efforts this year to draw attention to the contributions of Indigenous people including Confluence Week, drawing record of tennis to a National Indigenous Youth Leadership Conference leading conversations on inclusion with their peers and supporting increased Indigenous youth participation in science and engineering. Now therefore be it proclaimed by the Council of the City and County of Denver Section 1 that the Council of the City and County of Denver celebrates and honors the cultural and foundational contributions of Indigenous people to our history. Our past, present and future and continues to promote the education of the Denver community about these historic and contemporary contributions of Indigenous people. Section 2 at the City and County of Denver, Colorado does hereby observe October 9, 2017 as Indigenous People's Day. Section 3 at the clerk of the City and County of Denver shall attest and affix the seal of the City and County of Denver to this proclamation and that a copy be transmitted, excuse me, to the Denver American Indian Commission, the City and County of Denver School District number 1 and the Colorado Commission on Indian Affairs. Thank you Councilman Lopez, your motion to adopt. Mr. President, I move that proclamation number 1127, series of 2017 be adopted. All right, it has been moved and second, it comes with a council councilman Lopez. Thank you Mr. President. It gives me a lot of pleasure and pride to read this proclamation officially for the third time but as Indigenous people's day in Denver officially for the second time. It is, it's always awesome to be able to see not just this proclamation come through, come by my desk but to see so many different people from our community in our council chambers. It was a very beautiful piece of artwork that you presented to us earlier and it is exactly the spirit that we drafted this proclamation and this actual, the ordinance that created Indigenous People's Day when we sat down and wrote it and as a community we couldn't think of anything else to begin except for the confluence of the two rivers and those confluence of the two rivers created such a great city and we live in such an amazing city and we we're all proud of it and sometimes we and a lot of people from all over the country are out of the world are proud of it and sometimes a little too proud of it is telling them to go back home. But I'm kidding when I say that but the really nice thing about this is that we are celebrating Indigenous People's Day out of pride for who we are, who we are as a city and the contributions of Indigenous people to the city not out of spite, not out of a replacement of one culture over the other or out of contempt or disrespect. I think of a quote that Sisso Chavez made very very popular and it stuck with me for a very long time and anytime I have the opportunity I speak in front of children and especially children in our community that they often second guests themselves and where they're coming from, who they are and I always say that it's very important to be proud of who you're from and the quote that I use Sisso Chavez is pride in one's own culture does not require contempt or disrespect of another and that's very important. It's very important for us to recognize that no matter who we are where we come from in this society that your pride in your own culture doesn't require the contempt or disrespect of another. Amen, what a year to be for that to just sit on our shoulders for a while for us to think about. And so I wanted to just to thank you all, I think the commission, there's going to be a couple individuals that are going to come speak thank you for your art, your lovely artwork for us to see what's in your heart and what now has become a probably going to be a very important symbol for the community and also just for the work, the daily work every single day we still have a lot of brothers and sisters whose ancestors once lived in these lands freely now stand on street corners right in poverty without access to services right without access to sobriety or even housing or jobs and what a what a what a cruel way to pay back a culture that has paved the way for the city to be built upon its shores right so we have a lot of work to do and these kind of proclamations in this day is not a day off it's a day on and then right and addressing those those those critical issues so I know that my colleagues are very supportive I'm going to ask you to support this proclamation as I know you always have done in the past I'm very proud of today oh I mean you made time magazine and newsweek once again as being a leader in terms of the cities that are celebrating Indigenous peoples day I wanted to make a point out of that thank you councilman Lopez and thank you for sponsoring this councilman martega this president I want to ask my name be added I don't think I could add much more to what councilman Lopez has shared with us I want to thank him for bringing this forward and really just appreciate all the contributions that our Native American community has contributed to this great city and great state I worked in the lieutenant governor's office when the commission on Indian affairs was created and had the benefit of being able to go down to the four corners for a peace treaty signing ceremony between the uites and the command cheese that had been sort of at odds with each other for about a hundred years and just being able to participate in that powwow was was pretty awesome so and for those of you who continue to participate in the annual powwow it's it's such a great opportunity for everybody else to enjoy so many of the contributions of the culture I mean to see that the dance continues to be carried on as well as as the native language from generation to generation is just so incredible because in so many cultures you know people have come here and assimilated to the the you know the norms here and they lose their language and and lose a lot of the culture and in the native community that that hasn't happened that has that you know commitment to just passing that on from generation to generation is is so important and so I'm happy to be a co-sponsor of this tonight thank you all right thank you councilman or take your councilwoman can you thank you very much and I also want to thank my colleague for bringing this forward and I I just wanted to to say word to artists about how beautiful and moving I thought this logo was and your description of it and I think one of the things that is clear is you know the words sometimes don't convey the power of imagery or music or the other pieces that make up culture and so I think the art is so important and when you talked about water I was also thinking about land and I guess I just wanted to say thank you many of the Native American peoples of Colorado have been at the forefront or actually nationally of defending some of the the public lands that have been protected over the last few years that are under attack right now and their places that you the communities have fought to protect but that everyone gets to enjoy and so I just think that it's an example of where cultural preservation intersects with environmental protection with you know recreation and all of the other ways that that public lands are so important and so I think I just wanted to say thank you for that because I think we have some very sacred places in our country that are at risk right now and so as we celebrate I appreciate that there's still a piece of resistance in here and I think that I just want to mention a solidarity and I mentioned a feeling of solidarity with that resistance so thank you and happy confluence week thank you councilman can each and see you know other comments I'll just say a couple and in a time of such divisive ugliness and just despicable behavior from our leadership the reason I'm so supportive indigenous peoples days because it means inclusivity it means respecting all respecting those who have been silenced on purpose for a long time and whose history has not been told and so we celebrate inclusivity in the face of such evil times honestly\", 'segments': [{'id': 0, 'seek': 0, 'start': 0.0, 'end': 5.04, 'text': ' kind of the confluence of this whole idea of the confluence week, the merging of two rivers,', 'tokens': [50364, 733, 295, 264, 1497, 40432, 295, 341, 1379, 1558, 295, 264, 1497, 40432, 1243, 11, 264, 44559, 295, 732, 18361, 11, 50616], 'temperature': 0.0, 'avg_logprob': -0.23020658388242618, 'compression_ratio': 1.7572815533980584, 'no_speech_prob': 0.028349019587039948}, {'id': 1, 'seek': 0, 'start': 5.04, 'end': 13.68, 'text': \" and as we've kind of seen recently in politics and in the world, there's a lot of situations\", 'tokens': [50616, 293, 382, 321, 600, 733, 295, 1612, 3938, 294, 7341, 293, 294, 264, 1002, 11, 456, 311, 257, 688, 295, 6851, 51048], 'temperature': 0.0, 'avg_logprob': -0.23020658388242618, 'compression_ratio': 1.7572815533980584, 'no_speech_prob': 0.028349019587039948}, {'id': 2, 'seek': 0, 'start': 13.68, 'end': 18.12, 'text': \" where water is very important right now and it's a very big issue. So that is the reason\", 'tokens': [51048, 689, 1281, 307, 588, 1021, 558, 586, 293, 309, 311, 257, 588, 955, 2734, 13, 407, 300, 307, 264, 1778, 51270], 'temperature': 0.0, 'avg_logprob': -0.23020658388242618, 'compression_ratio': 1.7572815533980584, 'no_speech_prob': 0.028349019587039948}, {'id': 3, 'seek': 0, 'start': 18.12, 'end': 26.16, 'text': ' the back of the logo is considered water. So let you see the creation of the logo here.', 'tokens': [51270, 264, 646, 295, 264, 9699, 307, 4888, 1281, 13, 407, 718, 291, 536, 264, 8016, 295, 264, 9699, 510, 13, 51672], 'temperature': 0.0, 'avg_logprob': -0.23020658388242618, 'compression_ratio': 1.7572815533980584, 'no_speech_prob': 0.028349019587039948}, {'id': 4, 'seek': 3000, 'start': 30.0, 'end': 46.24, 'text': ' And yes, so that basically kind of sums up the reason behind the logo and all the meanings', 'tokens': [50364, 400, 2086, 11, 370, 300, 1936, 733, 295, 34499, 493, 264, 1778, 2261, 264, 9699, 293, 439, 264, 28138, 51176], 'temperature': 0.0, 'avg_logprob': -0.19224425493660618, 'compression_ratio': 1.5511363636363635, 'no_speech_prob': 0.006376546807587147}, {'id': 5, 'seek': 3000, 'start': 46.24, 'end': 53.16, 'text': \" behind the symbolism. And you'll hear a little bit more about our confluence week is basically\", 'tokens': [51176, 2261, 264, 47061, 13, 400, 291, 603, 1568, 257, 707, 857, 544, 466, 527, 1497, 40432, 1243, 307, 1936, 51522], 'temperature': 0.0, 'avg_logprob': -0.19224425493660618, 'compression_ratio': 1.5511363636363635, 'no_speech_prob': 0.006376546807587147}, {'id': 6, 'seek': 3000, 'start': 53.16, 'end': 57.04, 'text': ' highlighting all of these indigenous events and things that are happening around Denver', 'tokens': [51522, 26551, 439, 295, 613, 15511, 3931, 293, 721, 300, 366, 2737, 926, 26270, 51716], 'temperature': 0.0, 'avg_logprob': -0.19224425493660618, 'compression_ratio': 1.5511363636363635, 'no_speech_prob': 0.006376546807587147}, {'id': 7, 'seek': 5704, 'start': 57.04, 'end': 62.4, 'text': ' so that we can kind of bring more people together and kind of share this whole idea of', 'tokens': [50364, 370, 300, 321, 393, 733, 295, 1565, 544, 561, 1214, 293, 733, 295, 2073, 341, 1379, 1558, 295, 50632], 'temperature': 0.0, 'avg_logprob': -0.2134287164017961, 'compression_ratio': 1.4928909952606635, 'no_speech_prob': 0.05140485242009163}, {'id': 8, 'seek': 5704, 'start': 62.4, 'end': 66.8, 'text': ' indigenous peoples day. So thank you. Thank you so much and thanks for your leadership.', 'tokens': [50632, 15511, 16915, 786, 13, 407, 1309, 291, 13, 1044, 291, 370, 709, 293, 3231, 337, 428, 5848, 13, 50852], 'temperature': 0.0, 'avg_logprob': -0.2134287164017961, 'compression_ratio': 1.4928909952606635, 'no_speech_prob': 0.05140485242009163}, {'id': 9, 'seek': 5704, 'start': 68.16, 'end': 73.52, 'text': ' All right. Welcome to the Denver City Council meeting of Monday, October 9th,', 'tokens': [50920, 1057, 558, 13, 4027, 281, 264, 26270, 4392, 7076, 3440, 295, 8138, 11, 7617, 1722, 392, 11, 51188], 'temperature': 0.0, 'avg_logprob': -0.2134287164017961, 'compression_ratio': 1.4928909952606635, 'no_speech_prob': 0.05140485242009163}, {'id': 10, 'seek': 5704, 'start': 73.52, 'end': 76.64, 'text': ' please rise with the pledge of allegiance by Councilman Lopez.', 'tokens': [51188, 1767, 6272, 365, 264, 26819, 295, 44706, 538, 7076, 1601, 36077, 13, 51344], 'temperature': 0.0, 'avg_logprob': -0.2134287164017961, 'compression_ratio': 1.4928909952606635, 'no_speech_prob': 0.05140485242009163}, {'id': 11, 'seek': 8704, 'start': 87.04, 'end': 92.16000000000001, 'text': ' One makes me under God in the visible liberty of the justice for all.', 'tokens': [50364, 1485, 1669, 385, 833, 1265, 294, 264, 8974, 22849, 295, 264, 6118, 337, 439, 13, 50620], 'temperature': 0.0, 'avg_logprob': -0.5956848838112571, 'compression_ratio': 1.2702702702702702, 'no_speech_prob': 0.15658825635910034}, {'id': 12, 'seek': 8704, 'start': 96.72, 'end': 99.28, 'text': ' All right. Thank you Councilman Lopez. Madam Secretary, roll call.', 'tokens': [50848, 1057, 558, 13, 1044, 291, 7076, 1601, 36077, 13, 18490, 9126, 11, 3373, 818, 13, 50976], 'temperature': 0.0, 'avg_logprob': -0.5956848838112571, 'compression_ratio': 1.2702702702702702, 'no_speech_prob': 0.15658825635910034}, {'id': 13, 'seek': 8704, 'start': 100.64, 'end': 109.44000000000001, 'text': ' Black, clerk, espinosa, here, Flynn, Gilmore, here,', 'tokens': [51044, 4076, 11, 31402, 11, 7089, 259, 6447, 11, 510, 11, 40391, 11, 17654, 3138, 11, 510, 11, 51484], 'temperature': 0.0, 'avg_logprob': -0.5956848838112571, 'compression_ratio': 1.2702702702702702, 'no_speech_prob': 0.15658825635910034}, {'id': 14, 'seek': 10944, 'start': 110.39999999999999, 'end': 117.36, 'text': ' here, Cashman, here, can each, here, Lopez, new, here, or Teiga, here,', 'tokens': [50412, 510, 11, 27016, 1601, 11, 510, 11, 393, 1184, 11, 510, 11, 36077, 11, 777, 11, 510, 11, 420, 1989, 9900, 11, 510, 11, 50760], 'temperature': 0.0, 'avg_logprob': -0.38583606920744246, 'compression_ratio': 1.7295918367346939, 'no_speech_prob': 0.04831888899207115}, {'id': 15, 'seek': 10944, 'start': 117.36, 'end': 125.12, 'text': ' Sussan, Mr. President, here, 11 present, 11 members present, we do have a quorum.', 'tokens': [50760, 318, 2023, 282, 11, 2221, 13, 3117, 11, 510, 11, 2975, 1974, 11, 2975, 2679, 1974, 11, 321, 360, 362, 257, 421, 36543, 13, 51148], 'temperature': 0.0, 'avg_logprob': -0.38583606920744246, 'compression_ratio': 1.7295918367346939, 'no_speech_prob': 0.04831888899207115}, {'id': 16, 'seek': 10944, 'start': 125.12, 'end': 129.68, 'text': ' Approval of the minutes, are there any corrections to the minutes of October 2nd?', 'tokens': [51148, 29551, 3337, 295, 264, 2077, 11, 366, 456, 604, 36406, 281, 264, 2077, 295, 7617, 568, 273, 30, 51376], 'temperature': 0.0, 'avg_logprob': -0.38583606920744246, 'compression_ratio': 1.7295918367346939, 'no_speech_prob': 0.04831888899207115}, {'id': 17, 'seek': 10944, 'start': 130.72, 'end': 135.6, 'text': ' Seeing none, minutes of October 2nd, stand approved council announcement. So are there any announcements', 'tokens': [51428, 19703, 6022, 11, 2077, 295, 7617, 568, 273, 11, 1463, 10826, 9209, 12847, 13, 407, 366, 456, 604, 23785, 51672], 'temperature': 0.0, 'avg_logprob': -0.38583606920744246, 'compression_ratio': 1.7295918367346939, 'no_speech_prob': 0.04831888899207115}, {'id': 18, 'seek': 13560, 'start': 135.6, 'end': 145.35999999999999, 'text': ' by members of council? Councilman Clark. Thank you, Mr. President. I just want to do invite', 'tokens': [50364, 538, 2679, 295, 9209, 30, 7076, 1601, 18572, 13, 1044, 291, 11, 2221, 13, 3117, 13, 286, 445, 528, 281, 360, 7980, 50852], 'temperature': 0.0, 'avg_logprob': -0.1611092852562973, 'compression_ratio': 1.4609375, 'no_speech_prob': 0.023563044145703316}, {'id': 19, 'seek': 13560, 'start': 145.35999999999999, 'end': 151.92, 'text': ' everyone down to the first ever Halloween parade on Broadway in Lucky District 7. It will happen', 'tokens': [50852, 1518, 760, 281, 264, 700, 1562, 13860, 26128, 322, 19414, 294, 26639, 14374, 1614, 13, 467, 486, 1051, 51180], 'temperature': 0.0, 'avg_logprob': -0.1611092852562973, 'compression_ratio': 1.4609375, 'no_speech_prob': 0.023563044145703316}, {'id': 20, 'seek': 13560, 'start': 151.92, 'end': 159.12, 'text': \" on Saturday, October 21st at 6 o'clock PM. It will move along Broadway from 3rd to Alameda. It's\", 'tokens': [51180, 322, 8803, 11, 7617, 5080, 372, 412, 1386, 277, 6, 9023, 12499, 13, 467, 486, 1286, 2051, 19414, 490, 805, 7800, 281, 967, 3475, 64, 13, 467, 311, 51540], 'temperature': 0.0, 'avg_logprob': -0.1611092852562973, 'compression_ratio': 1.4609375, 'no_speech_prob': 0.023563044145703316}, {'id': 21, 'seek': 13560, 'start': 159.12, 'end': 163.84, 'text': \" going to be a fun family friendly event. Everyone's invited to come down. Where costume?\", 'tokens': [51540, 516, 281, 312, 257, 1019, 1605, 9208, 2280, 13, 5198, 311, 9185, 281, 808, 760, 13, 2305, 14850, 30, 51776], 'temperature': 0.0, 'avg_logprob': -0.1611092852562973, 'compression_ratio': 1.4609375, 'no_speech_prob': 0.023563044145703316}, {'id': 22, 'seek': 16384, 'start': 164.8, 'end': 174.24, 'text': ' There will be candy for the kids and there are teaky zombies and 29 herses and all kinds of fun', 'tokens': [50412, 821, 486, 312, 11237, 337, 264, 2301, 293, 456, 366, 535, 15681, 24230, 293, 9413, 720, 6196, 293, 439, 3685, 295, 1019, 50884], 'temperature': 0.0, 'avg_logprob': -0.1594826316833496, 'compression_ratio': 1.5925925925925926, 'no_speech_prob': 0.06597991287708282}, {'id': 23, 'seek': 16384, 'start': 174.24, 'end': 180.88, 'text': \" and funky stuff on the fun and funky part of Broadway. So please join us October 21st at 6 o'clock\", 'tokens': [50884, 293, 33499, 1507, 322, 264, 1019, 293, 33499, 644, 295, 19414, 13, 407, 1767, 3917, 505, 7617, 5080, 372, 412, 1386, 277, 6, 9023, 51216], 'temperature': 0.0, 'avg_logprob': -0.1594826316833496, 'compression_ratio': 1.5925925925925926, 'no_speech_prob': 0.06597991287708282}, {'id': 24, 'seek': 16384, 'start': 180.88, 'end': 185.28, 'text': ' for the Broadway Halloween parade. Thank you, Mr. President. All right. Thank you, Councilman Clark.', 'tokens': [51216, 337, 264, 19414, 13860, 26128, 13, 1044, 291, 11, 2221, 13, 3117, 13, 1057, 558, 13, 1044, 291, 11, 7076, 1601, 18572, 13, 51436], 'temperature': 0.0, 'avg_logprob': -0.1594826316833496, 'compression_ratio': 1.5925925925925926, 'no_speech_prob': 0.06597991287708282}, {'id': 25, 'seek': 16384, 'start': 186.08, 'end': 192.24, 'text': \" We'll be there. All right. Presentations. Madam Secretary, we have any presentations? None,\", 'tokens': [51476, 492, 603, 312, 456, 13, 1057, 558, 13, 33253, 763, 13, 18490, 9126, 11, 321, 362, 604, 18964, 30, 14492, 11, 51784], 'temperature': 0.0, 'avg_logprob': -0.1594826316833496, 'compression_ratio': 1.5925925925925926, 'no_speech_prob': 0.06597991287708282}, {'id': 26, 'seek': 19224, 'start': 192.24, 'end': 197.12, 'text': ' Mr. President. Communications. Do we have any communications? None, Mr. President. We do have one', 'tokens': [50364, 2221, 13, 3117, 13, 38998, 13, 1144, 321, 362, 604, 15163, 30, 14492, 11, 2221, 13, 3117, 13, 492, 360, 362, 472, 50608], 'temperature': 0.0, 'avg_logprob': -0.2508663420981549, 'compression_ratio': 1.6008771929824561, 'no_speech_prob': 0.01731989160180092}, {'id': 27, 'seek': 19224, 'start': 197.12, 'end': 204.96, 'text': \" proclamation this evening, proclamation 1127, an observance of the annual Indigenous People's\", 'tokens': [50608, 447, 41411, 341, 5634, 11, 447, 41411, 2975, 10076, 11, 364, 9951, 719, 295, 264, 9784, 22699, 3432, 311, 51000], 'temperature': 0.0, 'avg_logprob': -0.2508663420981549, 'compression_ratio': 1.6008771929824561, 'no_speech_prob': 0.01731989160180092}, {'id': 28, 'seek': 19224, 'start': 205.84, 'end': 209.44, 'text': ' Day in the City and County of Denver. Councilman Loplayes, would you please read it?', 'tokens': [51044, 5226, 294, 264, 4392, 293, 6658, 295, 26270, 13, 7076, 1601, 6130, 2858, 279, 11, 576, 291, 1767, 1401, 309, 30, 51224], 'temperature': 0.0, 'avg_logprob': -0.2508663420981549, 'compression_ratio': 1.6008771929824561, 'no_speech_prob': 0.01731989160180092}, {'id': 29, 'seek': 19224, 'start': 210.4, 'end': 216.72, 'text': \" Thank you, Mr. President. We're fried. Proclamation number 17, well let me just say this\", 'tokens': [51272, 1044, 291, 11, 2221, 13, 3117, 13, 492, 434, 10425, 13, 1705, 41411, 1230, 3282, 11, 731, 718, 385, 445, 584, 341, 51588], 'temperature': 0.0, 'avg_logprob': -0.2508663420981549, 'compression_ratio': 1.6008771929824561, 'no_speech_prob': 0.01731989160180092}, {'id': 30, 'seek': 21672, 'start': 217.44, 'end': 224.24, 'text': \" proclamation number 1127 series of 2017 and observance of the second annual Indigenous People's Day\", 'tokens': [50400, 447, 41411, 1230, 2975, 10076, 2638, 295, 6591, 293, 9951, 719, 295, 264, 1150, 9784, 22699, 3432, 311, 5226, 50740], 'temperature': 0.0, 'avg_logprob': -0.20351679508502668, 'compression_ratio': 1.690391459074733, 'no_speech_prob': 0.032887622714042664}, {'id': 31, 'seek': 21672, 'start': 224.24, 'end': 228.72, 'text': ' in the City and County of Denver. Whereas the Council of the City and County of Denver recognizes', 'tokens': [50740, 294, 264, 4392, 293, 6658, 295, 26270, 13, 13813, 264, 7076, 295, 264, 4392, 293, 6658, 295, 26270, 26564, 50964], 'temperature': 0.0, 'avg_logprob': -0.20351679508502668, 'compression_ratio': 1.690391459074733, 'no_speech_prob': 0.032887622714042664}, {'id': 32, 'seek': 21672, 'start': 228.72, 'end': 233.44, 'text': ' that the Indigenous peoples have lived and flourished on the lands known as the Ametica since time', 'tokens': [50964, 300, 264, 22699, 16915, 362, 5152, 293, 7693, 4729, 322, 264, 5949, 2570, 382, 264, 2012, 302, 2262, 1670, 565, 51200], 'temperature': 0.0, 'avg_logprob': -0.20351679508502668, 'compression_ratio': 1.690391459074733, 'no_speech_prob': 0.032887622714042664}, {'id': 33, 'seek': 21672, 'start': 234.07999999999998, 'end': 240.48, 'text': ' immemorial and that Denver and the surrounding communities are built upon the ancestral homelands', 'tokens': [51232, 3397, 443, 5181, 293, 300, 26270, 293, 264, 11498, 4456, 366, 3094, 3564, 264, 40049, 3655, 338, 2967, 51552], 'temperature': 0.0, 'avg_logprob': -0.20351679508502668, 'compression_ratio': 1.690391459074733, 'no_speech_prob': 0.032887622714042664}, {'id': 34, 'seek': 21672, 'start': 240.48, 'end': 245.44, 'text': ' of numerous Indigenous tribes which include the southern Newt, the Yut Mountain,', 'tokens': [51552, 295, 12546, 22699, 19035, 597, 4090, 264, 13456, 1873, 83, 11, 264, 398, 325, 15586, 11, 51800], 'temperature': 0.0, 'avg_logprob': -0.20351679508502668, 'compression_ratio': 1.690391459074733, 'no_speech_prob': 0.032887622714042664}, {'id': 35, 'seek': 24544, 'start': 245.44, 'end': 250.48, 'text': ' Yut tribes of Colorado and whereas the tribal homelands and seasonal encampments of the', 'tokens': [50364, 398, 325, 19035, 295, 15786, 293, 9735, 264, 20958, 3655, 338, 2967, 293, 27421, 2058, 1215, 1117, 295, 264, 50616], 'temperature': 0.0, 'avg_logprob': -0.20633264189784967, 'compression_ratio': 1.7065217391304348, 'no_speech_prob': 0.004231547936797142}, {'id': 36, 'seek': 24544, 'start': 250.48, 'end': 256.24, 'text': ' Arapoho and Shamb people along the banks of the Cherry Creek and South Plot River confluence', 'tokens': [50616, 18601, 2259, 1289, 293, 1160, 2173, 561, 2051, 264, 10237, 295, 264, 34831, 24200, 293, 4242, 2149, 310, 8640, 1497, 40432, 50904], 'temperature': 0.0, 'avg_logprob': -0.20633264189784967, 'compression_ratio': 1.7065217391304348, 'no_speech_prob': 0.004231547936797142}, {'id': 37, 'seek': 24544, 'start': 256.24, 'end': 260.48, 'text': ' gave bearing to the future settlements that would become the birthplace of the Mile High City.', 'tokens': [50904, 2729, 17350, 281, 264, 2027, 35558, 300, 576, 1813, 264, 3965, 6742, 295, 264, 47651, 5229, 4392, 13, 51116], 'temperature': 0.0, 'avg_logprob': -0.20633264189784967, 'compression_ratio': 1.7065217391304348, 'no_speech_prob': 0.004231547936797142}, {'id': 38, 'seek': 24544, 'start': 262.24, 'end': 268.15999999999997, 'text': ' And whereas Colorado encompasses the ancestral homelands of 48 tribes in the City and County', 'tokens': [51204, 400, 9735, 15786, 49866, 264, 40049, 3655, 338, 2967, 295, 11174, 19035, 294, 264, 4392, 293, 6658, 51500], 'temperature': 0.0, 'avg_logprob': -0.20633264189784967, 'compression_ratio': 1.7065217391304348, 'no_speech_prob': 0.004231547936797142}, {'id': 39, 'seek': 24544, 'start': 268.15999999999997, 'end': 273.6, 'text': ' of Denver and surrounding communities are home to the descendants of approximately 100 tribal nations.', 'tokens': [51500, 295, 26270, 293, 11498, 4456, 366, 1280, 281, 264, 31693, 295, 10447, 2319, 20958, 11035, 13, 51772], 'temperature': 0.0, 'avg_logprob': -0.20633264189784967, 'compression_ratio': 1.7065217391304348, 'no_speech_prob': 0.004231547936797142}, {'id': 40, 'seek': 27360, 'start': 274.56, 'end': 282.0, 'text': ' And whereas on October 3rd 2016 the City and County of Denver unanimously passed', 'tokens': [50412, 400, 9735, 322, 7617, 805, 7800, 6549, 264, 4392, 293, 6658, 295, 26270, 48733, 4678, 50784], 'temperature': 0.0, 'avg_logprob': -0.12693915869060315, 'compression_ratio': 1.6081081081081081, 'no_speech_prob': 0.005547053180634975}, {'id': 41, 'seek': 27360, 'start': 282.0, 'end': 288.56, 'text': ' Council Bill 801 series of 2016 officially designating the second Monday of October of each', 'tokens': [50784, 7076, 5477, 4688, 16, 2638, 295, 6549, 12053, 1715, 990, 264, 1150, 8138, 295, 7617, 295, 1184, 51112], 'temperature': 0.0, 'avg_logprob': -0.12693915869060315, 'compression_ratio': 1.6081081081081081, 'no_speech_prob': 0.005547053180634975}, {'id': 42, 'seek': 27360, 'start': 288.56, 'end': 295.84000000000003, 'text': \" year as Indigenous People's Day in Denver, Colorado. And whereas the Council of the City and\", 'tokens': [51112, 1064, 382, 22699, 3432, 311, 5226, 294, 26270, 11, 15786, 13, 400, 9735, 264, 7076, 295, 264, 4392, 293, 51476], 'temperature': 0.0, 'avg_logprob': -0.12693915869060315, 'compression_ratio': 1.6081081081081081, 'no_speech_prob': 0.005547053180634975}, {'id': 43, 'seek': 27360, 'start': 295.84000000000003, 'end': 303.20000000000005, 'text': ' County of Denver continues to recognize and value the vast contributions made to community,', 'tokens': [51476, 6658, 295, 26270, 6515, 281, 5521, 293, 2158, 264, 8369, 15725, 1027, 281, 1768, 11, 51844], 'temperature': 0.0, 'avg_logprob': -0.12693915869060315, 'compression_ratio': 1.6081081081081081, 'no_speech_prob': 0.005547053180634975}, {'id': 44, 'seek': 30320, 'start': 303.2, 'end': 309.84, 'text': \" made to the community through Indigenous People's Knowledge, Science, Philosophy, Arts and\", 'tokens': [50364, 1027, 281, 264, 1768, 807, 22699, 3432, 311, 32906, 11, 8976, 11, 43655, 11, 12407, 293, 50696], 'temperature': 0.0, 'avg_logprob': -0.20155859582218122, 'compression_ratio': 1.6719367588932805, 'no_speech_prob': 0.0011568276677280664}, {'id': 45, 'seek': 30320, 'start': 309.84, 'end': 314.64, 'text': ' Culture and through these contributions the City of Denver has developed and thrived.', 'tokens': [50696, 27539, 293, 807, 613, 15725, 264, 4392, 295, 26270, 575, 4743, 293, 23949, 937, 13, 50936], 'temperature': 0.0, 'avg_logprob': -0.20155859582218122, 'compression_ratio': 1.6719367588932805, 'no_speech_prob': 0.0011568276677280664}, {'id': 46, 'seek': 30320, 'start': 316.24, 'end': 322.64, 'text': ' Whereas the Indigenous community especially Yut have made great efforts this year to draw', 'tokens': [51016, 13813, 264, 22699, 1768, 2318, 398, 325, 362, 1027, 869, 6484, 341, 1064, 281, 2642, 51336], 'temperature': 0.0, 'avg_logprob': -0.20155859582218122, 'compression_ratio': 1.6719367588932805, 'no_speech_prob': 0.0011568276677280664}, {'id': 47, 'seek': 30320, 'start': 322.64, 'end': 326.56, 'text': ' attention to the contributions of Indigenous people including Confluence Week,', 'tokens': [51336, 3202, 281, 264, 15725, 295, 22699, 561, 3009, 11701, 40432, 12615, 11, 51532], 'temperature': 0.0, 'avg_logprob': -0.20155859582218122, 'compression_ratio': 1.6719367588932805, 'no_speech_prob': 0.0011568276677280664}, {'id': 48, 'seek': 30320, 'start': 327.12, 'end': 331.03999999999996, 'text': ' drawing record of tennis to a National Indigenous Youth Leadership Conference', 'tokens': [51560, 6316, 2136, 295, 18118, 281, 257, 4862, 22699, 24312, 30577, 22131, 51756], 'temperature': 0.0, 'avg_logprob': -0.20155859582218122, 'compression_ratio': 1.6719367588932805, 'no_speech_prob': 0.0011568276677280664}, {'id': 49, 'seek': 33104, 'start': 331.04, 'end': 335.52000000000004, 'text': ' leading conversations on inclusion with their peers and supporting', 'tokens': [50364, 5775, 7315, 322, 15874, 365, 641, 16739, 293, 7231, 50588], 'temperature': 0.0, 'avg_logprob': -0.14948487893129006, 'compression_ratio': 1.7652173913043478, 'no_speech_prob': 0.012869947589933872}, {'id': 50, 'seek': 33104, 'start': 335.52000000000004, 'end': 339.44, 'text': ' increased Indigenous youth participation in science and engineering.', 'tokens': [50588, 6505, 22699, 7503, 13487, 294, 3497, 293, 7043, 13, 50784], 'temperature': 0.0, 'avg_logprob': -0.14948487893129006, 'compression_ratio': 1.7652173913043478, 'no_speech_prob': 0.012869947589933872}, {'id': 51, 'seek': 33104, 'start': 340.32, 'end': 345.44, 'text': ' Now therefore be it proclaimed by the Council of the City and County of Denver Section 1', 'tokens': [50828, 823, 4412, 312, 309, 49091, 538, 264, 7076, 295, 264, 4392, 293, 6658, 295, 26270, 21804, 502, 51084], 'temperature': 0.0, 'avg_logprob': -0.14948487893129006, 'compression_ratio': 1.7652173913043478, 'no_speech_prob': 0.012869947589933872}, {'id': 52, 'seek': 33104, 'start': 346.0, 'end': 350.0, 'text': ' that the Council of the City and County of Denver celebrates and honors the cultural and', 'tokens': [51112, 300, 264, 7076, 295, 264, 4392, 293, 6658, 295, 26270, 47182, 293, 26884, 264, 6988, 293, 51312], 'temperature': 0.0, 'avg_logprob': -0.14948487893129006, 'compression_ratio': 1.7652173913043478, 'no_speech_prob': 0.012869947589933872}, {'id': 53, 'seek': 33104, 'start': 350.0, 'end': 356.16, 'text': ' foundational contributions of Indigenous people to our history. Our past, present and future', 'tokens': [51312, 32195, 15725, 295, 22699, 561, 281, 527, 2503, 13, 2621, 1791, 11, 1974, 293, 2027, 51620], 'temperature': 0.0, 'avg_logprob': -0.14948487893129006, 'compression_ratio': 1.7652173913043478, 'no_speech_prob': 0.012869947589933872}, {'id': 54, 'seek': 35616, 'start': 356.8, 'end': 362.0, 'text': ' and continues to promote the education of the Denver community about these historic', 'tokens': [50396, 293, 6515, 281, 9773, 264, 3309, 295, 264, 26270, 1768, 466, 613, 13236, 50656], 'temperature': 0.0, 'avg_logprob': -0.179953180040632, 'compression_ratio': 1.6180904522613064, 'no_speech_prob': 0.02679637260735035}, {'id': 55, 'seek': 35616, 'start': 362.64000000000004, 'end': 365.28000000000003, 'text': ' and contemporary contributions of Indigenous people.', 'tokens': [50688, 293, 14878, 15725, 295, 22699, 561, 13, 50820], 'temperature': 0.0, 'avg_logprob': -0.179953180040632, 'compression_ratio': 1.6180904522613064, 'no_speech_prob': 0.02679637260735035}, {'id': 56, 'seek': 35616, 'start': 367.28000000000003, 'end': 375.04, 'text': ' Section 2 at the City and County of Denver, Colorado does hereby observe October 9, 2017', 'tokens': [50920, 21804, 568, 412, 264, 4392, 293, 6658, 295, 26270, 11, 15786, 775, 510, 2322, 11441, 7617, 1722, 11, 6591, 51308], 'temperature': 0.0, 'avg_logprob': -0.179953180040632, 'compression_ratio': 1.6180904522613064, 'no_speech_prob': 0.02679637260735035}, {'id': 57, 'seek': 35616, 'start': 375.6, 'end': 382.0, 'text': \" as Indigenous People's Day. Section 3 at the clerk of the City and County of Denver shall attest\", 'tokens': [51336, 382, 22699, 3432, 311, 5226, 13, 21804, 805, 412, 264, 31402, 295, 264, 4392, 293, 6658, 295, 26270, 4393, 951, 377, 51656], 'temperature': 0.0, 'avg_logprob': -0.179953180040632, 'compression_ratio': 1.6180904522613064, 'no_speech_prob': 0.02679637260735035}, {'id': 58, 'seek': 38200, 'start': 382.0, 'end': 386.64, 'text': ' and affix the seal of the City and County of Denver to this proclamation and that a copy', 'tokens': [50364, 293, 2096, 970, 264, 12185, 295, 264, 4392, 293, 6658, 295, 26270, 281, 341, 447, 41411, 293, 300, 257, 5055, 50596], 'temperature': 0.0, 'avg_logprob': -0.22841225900957662, 'compression_ratio': 1.6553191489361703, 'no_speech_prob': 0.04959501698613167}, {'id': 59, 'seek': 38200, 'start': 386.64, 'end': 394.16, 'text': ' be transmitted, excuse me, to the Denver American Indian Commission, the City and County of Denver', 'tokens': [50596, 312, 25355, 11, 8960, 385, 11, 281, 264, 26270, 2665, 6427, 10766, 11, 264, 4392, 293, 6658, 295, 26270, 50972], 'temperature': 0.0, 'avg_logprob': -0.22841225900957662, 'compression_ratio': 1.6553191489361703, 'no_speech_prob': 0.04959501698613167}, {'id': 60, 'seek': 38200, 'start': 394.16, 'end': 397.84, 'text': ' School District number 1 and the Colorado Commission on Indian Affairs.', 'tokens': [50972, 5070, 14374, 1230, 502, 293, 264, 15786, 10766, 322, 6427, 21721, 13, 51156], 'temperature': 0.0, 'avg_logprob': -0.22841225900957662, 'compression_ratio': 1.6553191489361703, 'no_speech_prob': 0.04959501698613167}, {'id': 61, 'seek': 38200, 'start': 399.68, 'end': 401.92, 'text': ' Thank you Councilman Lopez, your motion to adopt.', 'tokens': [51248, 1044, 291, 7076, 1601, 36077, 11, 428, 5394, 281, 6878, 13, 51360], 'temperature': 0.0, 'avg_logprob': -0.22841225900957662, 'compression_ratio': 1.6553191489361703, 'no_speech_prob': 0.04959501698613167}, {'id': 62, 'seek': 38200, 'start': 402.64, 'end': 407.92, 'text': ' Mr. President, I move that proclamation number 1127, series of 2017 be adopted.', 'tokens': [51396, 2221, 13, 3117, 11, 286, 1286, 300, 447, 41411, 1230, 2975, 10076, 11, 2638, 295, 6591, 312, 12175, 13, 51660], 'temperature': 0.0, 'avg_logprob': -0.22841225900957662, 'compression_ratio': 1.6553191489361703, 'no_speech_prob': 0.04959501698613167}, {'id': 63, 'seek': 40792, 'start': 408.8, 'end': 412.8, 'text': ' All right, it has been moved and second, it comes with a council councilman Lopez.', 'tokens': [50408, 1057, 558, 11, 309, 575, 668, 4259, 293, 1150, 11, 309, 1487, 365, 257, 9209, 9209, 1601, 36077, 13, 50608], 'temperature': 0.0, 'avg_logprob': -0.2460497726093639, 'compression_ratio': 1.6017699115044248, 'no_speech_prob': 0.04119943082332611}, {'id': 64, 'seek': 40792, 'start': 412.8, 'end': 418.96000000000004, 'text': ' Thank you Mr. President. It gives me a lot of pleasure and pride to read this proclamation', 'tokens': [50608, 1044, 291, 2221, 13, 3117, 13, 467, 2709, 385, 257, 688, 295, 6834, 293, 10936, 281, 1401, 341, 447, 41411, 50916], 'temperature': 0.0, 'avg_logprob': -0.2460497726093639, 'compression_ratio': 1.6017699115044248, 'no_speech_prob': 0.04119943082332611}, {'id': 65, 'seek': 40792, 'start': 419.6, 'end': 425.68, 'text': \" officially for the third time but as Indigenous people's day in Denver officially for the second\", 'tokens': [50948, 12053, 337, 264, 2636, 565, 457, 382, 22699, 561, 311, 786, 294, 26270, 12053, 337, 264, 1150, 51252], 'temperature': 0.0, 'avg_logprob': -0.2460497726093639, 'compression_ratio': 1.6017699115044248, 'no_speech_prob': 0.04119943082332611}, {'id': 66, 'seek': 40792, 'start': 425.68, 'end': 434.56, 'text': \" time. It is, it's always awesome to be able to see not just this proclamation come through,\", 'tokens': [51252, 565, 13, 467, 307, 11, 309, 311, 1009, 3476, 281, 312, 1075, 281, 536, 406, 445, 341, 447, 41411, 808, 807, 11, 51696], 'temperature': 0.0, 'avg_logprob': -0.2460497726093639, 'compression_ratio': 1.6017699115044248, 'no_speech_prob': 0.04119943082332611}, {'id': 67, 'seek': 43456, 'start': 434.56, 'end': 441.36, 'text': ' come by my desk but to see so many different people from our community in our council chambers.', 'tokens': [50364, 808, 538, 452, 10026, 457, 281, 536, 370, 867, 819, 561, 490, 527, 1768, 294, 527, 9209, 34513, 13, 50704], 'temperature': 0.0, 'avg_logprob': -0.1185679043040556, 'compression_ratio': 1.606694560669456, 'no_speech_prob': 0.008010364137589931}, {'id': 68, 'seek': 43456, 'start': 443.12, 'end': 448.64, 'text': ' It was a very beautiful piece of artwork that you presented to us earlier and it is exactly the', 'tokens': [50792, 467, 390, 257, 588, 2238, 2522, 295, 15829, 300, 291, 8212, 281, 505, 3071, 293, 309, 307, 2293, 264, 51068], 'temperature': 0.0, 'avg_logprob': -0.1185679043040556, 'compression_ratio': 1.606694560669456, 'no_speech_prob': 0.008010364137589931}, {'id': 69, 'seek': 43456, 'start': 448.64, 'end': 455.12, 'text': ' spirit that we drafted this proclamation and this actual, the ordinance that created Indigenous', 'tokens': [51068, 3797, 300, 321, 36288, 341, 447, 41411, 293, 341, 3539, 11, 264, 40260, 300, 2942, 22699, 51392], 'temperature': 0.0, 'avg_logprob': -0.1185679043040556, 'compression_ratio': 1.606694560669456, 'no_speech_prob': 0.008010364137589931}, {'id': 70, 'seek': 43456, 'start': 455.12, 'end': 460.88, 'text': \" People's Day when we sat down and wrote it and as a community we couldn't think of anything else\", 'tokens': [51392, 3432, 311, 5226, 562, 321, 3227, 760, 293, 4114, 309, 293, 382, 257, 1768, 321, 2809, 380, 519, 295, 1340, 1646, 51680], 'temperature': 0.0, 'avg_logprob': -0.1185679043040556, 'compression_ratio': 1.606694560669456, 'no_speech_prob': 0.008010364137589931}, {'id': 71, 'seek': 46088, 'start': 461.6, 'end': 466.32, 'text': ' to begin except for the confluence of the two rivers and those confluence of the two rivers', 'tokens': [50400, 281, 1841, 3993, 337, 264, 1497, 40432, 295, 264, 732, 18361, 293, 729, 1497, 40432, 295, 264, 732, 18361, 50636], 'temperature': 0.0, 'avg_logprob': -0.15516933527859775, 'compression_ratio': 1.9344262295081966, 'no_speech_prob': 0.01087357010692358}, {'id': 72, 'seek': 46088, 'start': 466.32, 'end': 473.04, 'text': \" created such a great city and we live in such an amazing city and we we're all proud of it and\", 'tokens': [50636, 2942, 1270, 257, 869, 2307, 293, 321, 1621, 294, 1270, 364, 2243, 2307, 293, 321, 321, 434, 439, 4570, 295, 309, 293, 50972], 'temperature': 0.0, 'avg_logprob': -0.15516933527859775, 'compression_ratio': 1.9344262295081966, 'no_speech_prob': 0.01087357010692358}, {'id': 73, 'seek': 46088, 'start': 473.04, 'end': 478.32, 'text': ' sometimes we and a lot of people from all over the country are out of the world are proud of it', 'tokens': [50972, 2171, 321, 293, 257, 688, 295, 561, 490, 439, 670, 264, 1941, 366, 484, 295, 264, 1002, 366, 4570, 295, 309, 51236], 'temperature': 0.0, 'avg_logprob': -0.15516933527859775, 'compression_ratio': 1.9344262295081966, 'no_speech_prob': 0.01087357010692358}, {'id': 74, 'seek': 46088, 'start': 478.32, 'end': 481.04, 'text': ' and sometimes a little too proud of it is telling them to go back home.', 'tokens': [51236, 293, 2171, 257, 707, 886, 4570, 295, 309, 307, 3585, 552, 281, 352, 646, 1280, 13, 51372], 'temperature': 0.0, 'avg_logprob': -0.15516933527859775, 'compression_ratio': 1.9344262295081966, 'no_speech_prob': 0.01087357010692358}, {'id': 75, 'seek': 48104, 'start': 481.20000000000005, 'end': 492.16, 'text': \" But I'm kidding when I say that but the really nice thing about this is that we are celebrating\", 'tokens': [50372, 583, 286, 478, 9287, 562, 286, 584, 300, 457, 264, 534, 1481, 551, 466, 341, 307, 300, 321, 366, 15252, 50920], 'temperature': 0.0, 'avg_logprob': -0.16775345456772955, 'compression_ratio': 1.6033519553072626, 'no_speech_prob': 0.024002891033887863}, {'id': 76, 'seek': 48104, 'start': 492.16, 'end': 498.48, 'text': \" Indigenous People's Day out of pride for who we are, who we are as a city and the contributions\", 'tokens': [50920, 22699, 3432, 311, 5226, 484, 295, 10936, 337, 567, 321, 366, 11, 567, 321, 366, 382, 257, 2307, 293, 264, 15725, 51236], 'temperature': 0.0, 'avg_logprob': -0.16775345456772955, 'compression_ratio': 1.6033519553072626, 'no_speech_prob': 0.024002891033887863}, {'id': 77, 'seek': 48104, 'start': 498.48, 'end': 504.64000000000004, 'text': ' of Indigenous people to the city not out of spite, not out of a replacement of one culture over', 'tokens': [51236, 295, 22699, 561, 281, 264, 2307, 406, 484, 295, 22794, 11, 406, 484, 295, 257, 14419, 295, 472, 3713, 670, 51544], 'temperature': 0.0, 'avg_logprob': -0.16775345456772955, 'compression_ratio': 1.6033519553072626, 'no_speech_prob': 0.024002891033887863}, {'id': 78, 'seek': 50464, 'start': 504.64, 'end': 515.92, 'text': ' the other or out of contempt or disrespect. I think of a quote that Sisso Chavez made very', 'tokens': [50364, 264, 661, 420, 484, 295, 47202, 420, 27058, 13, 286, 519, 295, 257, 6513, 300, 318, 891, 78, 761, 25975, 1027, 588, 50928], 'temperature': 0.0, 'avg_logprob': -0.26742860674858093, 'compression_ratio': 1.5337078651685394, 'no_speech_prob': 0.003617766546085477}, {'id': 79, 'seek': 50464, 'start': 515.92, 'end': 523.6, 'text': ' very popular and it stuck with me for a very long time and anytime I have the opportunity', 'tokens': [50928, 588, 3743, 293, 309, 5541, 365, 385, 337, 257, 588, 938, 565, 293, 13038, 286, 362, 264, 2650, 51312], 'temperature': 0.0, 'avg_logprob': -0.26742860674858093, 'compression_ratio': 1.5337078651685394, 'no_speech_prob': 0.003617766546085477}, {'id': 80, 'seek': 50464, 'start': 523.6, 'end': 533.36, 'text': ' I speak in front of children and especially children in our community that they often second', 'tokens': [51312, 286, 1710, 294, 1868, 295, 2227, 293, 2318, 2227, 294, 527, 1768, 300, 436, 2049, 1150, 51800], 'temperature': 0.0, 'avg_logprob': -0.26742860674858093, 'compression_ratio': 1.5337078651685394, 'no_speech_prob': 0.003617766546085477}, {'id': 81, 'seek': 53336, 'start': 533.36, 'end': 539.6800000000001, 'text': \" guests themselves and where they're coming from, who they are and I always say that it's very\", 'tokens': [50364, 9804, 2969, 293, 689, 436, 434, 1348, 490, 11, 567, 436, 366, 293, 286, 1009, 584, 300, 309, 311, 588, 50680], 'temperature': 0.0, 'avg_logprob': -0.16684925163185205, 'compression_ratio': 1.7031963470319635, 'no_speech_prob': 0.003680697176605463}, {'id': 82, 'seek': 53336, 'start': 539.6800000000001, 'end': 546.16, 'text': \" important to be proud of who you're from and the quote that I use Sisso Chavez is pride in one's\", 'tokens': [50680, 1021, 281, 312, 4570, 295, 567, 291, 434, 490, 293, 264, 6513, 300, 286, 764, 318, 891, 78, 761, 25975, 307, 10936, 294, 472, 311, 51004], 'temperature': 0.0, 'avg_logprob': -0.16684925163185205, 'compression_ratio': 1.7031963470319635, 'no_speech_prob': 0.003680697176605463}, {'id': 83, 'seek': 53336, 'start': 546.16, 'end': 553.52, 'text': \" own culture does not require contempt or disrespect of another and that's very important.\", 'tokens': [51004, 1065, 3713, 775, 406, 3651, 47202, 420, 27058, 295, 1071, 293, 300, 311, 588, 1021, 13, 51372], 'temperature': 0.0, 'avg_logprob': -0.16684925163185205, 'compression_ratio': 1.7031963470319635, 'no_speech_prob': 0.003680697176605463}, {'id': 84, 'seek': 53336, 'start': 553.52, 'end': 557.9200000000001, 'text': \" It's very important for us to recognize that no matter who we are where we come from in this\", 'tokens': [51372, 467, 311, 588, 1021, 337, 505, 281, 5521, 300, 572, 1871, 567, 321, 366, 689, 321, 808, 490, 294, 341, 51592], 'temperature': 0.0, 'avg_logprob': -0.16684925163185205, 'compression_ratio': 1.7031963470319635, 'no_speech_prob': 0.003680697176605463}, {'id': 85, 'seek': 55792, 'start': 557.92, 'end': 565.28, 'text': \" society that your pride in your own culture doesn't require the contempt or disrespect of another.\", 'tokens': [50364, 4086, 300, 428, 10936, 294, 428, 1065, 3713, 1177, 380, 3651, 264, 47202, 420, 27058, 295, 1071, 13, 50732], 'temperature': 0.0, 'avg_logprob': -0.22784504137541117, 'compression_ratio': 1.7136563876651982, 'no_speech_prob': 0.007851350121200085}, {'id': 86, 'seek': 55792, 'start': 565.28, 'end': 571.52, 'text': ' Amen, what a year to be for that to just sit on our shoulders for a while for us to think about.', 'tokens': [50732, 14092, 11, 437, 257, 1064, 281, 312, 337, 300, 281, 445, 1394, 322, 527, 10245, 337, 257, 1339, 337, 505, 281, 519, 466, 13, 51044], 'temperature': 0.0, 'avg_logprob': -0.22784504137541117, 'compression_ratio': 1.7136563876651982, 'no_speech_prob': 0.007851350121200085}, {'id': 87, 'seek': 55792, 'start': 573.12, 'end': 580.88, 'text': \" And so I wanted to just to thank you all, I think the commission, there's going to be a couple\", 'tokens': [51124, 400, 370, 286, 1415, 281, 445, 281, 1309, 291, 439, 11, 286, 519, 264, 9221, 11, 456, 311, 516, 281, 312, 257, 1916, 51512], 'temperature': 0.0, 'avg_logprob': -0.22784504137541117, 'compression_ratio': 1.7136563876651982, 'no_speech_prob': 0.007851350121200085}, {'id': 88, 'seek': 55792, 'start': 580.88, 'end': 585.1999999999999, 'text': ' individuals that are going to come speak thank you for your art, your lovely artwork for us to see', 'tokens': [51512, 5346, 300, 366, 516, 281, 808, 1710, 1309, 291, 337, 428, 1523, 11, 428, 7496, 15829, 337, 505, 281, 536, 51728], 'temperature': 0.0, 'avg_logprob': -0.22784504137541117, 'compression_ratio': 1.7136563876651982, 'no_speech_prob': 0.007851350121200085}, {'id': 89, 'seek': 58520, 'start': 586.08, 'end': 590.96, 'text': \" what's in your heart and what now has become a probably going to be a very important symbol\", 'tokens': [50408, 437, 311, 294, 428, 1917, 293, 437, 586, 575, 1813, 257, 1391, 516, 281, 312, 257, 588, 1021, 5986, 50652], 'temperature': 0.0, 'avg_logprob': -0.13304491270156132, 'compression_ratio': 1.7330316742081449, 'no_speech_prob': 0.011616718955338001}, {'id': 90, 'seek': 58520, 'start': 591.76, 'end': 597.9200000000001, 'text': ' for the community and also just for the work, the daily work every single day we still have a lot', 'tokens': [50692, 337, 264, 1768, 293, 611, 445, 337, 264, 589, 11, 264, 5212, 589, 633, 2167, 786, 321, 920, 362, 257, 688, 51000], 'temperature': 0.0, 'avg_logprob': -0.13304491270156132, 'compression_ratio': 1.7330316742081449, 'no_speech_prob': 0.011616718955338001}, {'id': 91, 'seek': 58520, 'start': 597.9200000000001, 'end': 603.6800000000001, 'text': ' of brothers and sisters whose ancestors once lived in these lands freely now stand on street', 'tokens': [51000, 295, 8452, 293, 11589, 6104, 18069, 1564, 5152, 294, 613, 5949, 16433, 586, 1463, 322, 4838, 51288], 'temperature': 0.0, 'avg_logprob': -0.13304491270156132, 'compression_ratio': 1.7330316742081449, 'no_speech_prob': 0.011616718955338001}, {'id': 92, 'seek': 58520, 'start': 603.6800000000001, 'end': 613.6800000000001, 'text': ' corners right in poverty without access to services right without access to sobriety or even housing', 'tokens': [51288, 12413, 558, 294, 10958, 1553, 2105, 281, 3328, 558, 1553, 2105, 281, 18253, 470, 2210, 420, 754, 6849, 51788], 'temperature': 0.0, 'avg_logprob': -0.13304491270156132, 'compression_ratio': 1.7330316742081449, 'no_speech_prob': 0.011616718955338001}, {'id': 93, 'seek': 61368, 'start': 613.68, 'end': 622.4, 'text': ' or jobs and what a what a what a cruel way to pay back a culture that has paved the way for the', 'tokens': [50364, 420, 4782, 293, 437, 257, 437, 257, 437, 257, 16022, 636, 281, 1689, 646, 257, 3713, 300, 575, 42989, 264, 636, 337, 264, 50800], 'temperature': 0.0, 'avg_logprob': -0.13617180555294722, 'compression_ratio': 1.736842105263158, 'no_speech_prob': 0.0032386104576289654}, {'id': 94, 'seek': 61368, 'start': 622.4, 'end': 629.92, 'text': ' city to be built upon its shores right so we have a lot of work to do and these kind of proclamations', 'tokens': [50800, 2307, 281, 312, 3094, 3564, 1080, 44247, 558, 370, 321, 362, 257, 688, 295, 589, 281, 360, 293, 613, 733, 295, 447, 3474, 335, 763, 51176], 'temperature': 0.0, 'avg_logprob': -0.13617180555294722, 'compression_ratio': 1.736842105263158, 'no_speech_prob': 0.0032386104576289654}, {'id': 95, 'seek': 61368, 'start': 629.92, 'end': 636.4799999999999, 'text': \" in this day is not a day off it's a day on and then right and addressing those those those critical\", 'tokens': [51176, 294, 341, 786, 307, 406, 257, 786, 766, 309, 311, 257, 786, 322, 293, 550, 558, 293, 14329, 729, 729, 729, 4924, 51504], 'temperature': 0.0, 'avg_logprob': -0.13617180555294722, 'compression_ratio': 1.736842105263158, 'no_speech_prob': 0.0032386104576289654}, {'id': 96, 'seek': 63648, 'start': 636.48, 'end': 643.12, 'text': \" issues so I know that my colleagues are very supportive I'm going to ask you to support this\", 'tokens': [50364, 2663, 370, 286, 458, 300, 452, 7734, 366, 588, 14435, 286, 478, 516, 281, 1029, 291, 281, 1406, 341, 50696], 'temperature': 0.0, 'avg_logprob': -0.18489126725630325, 'compression_ratio': 1.6293103448275863, 'no_speech_prob': 0.10826639831066132}, {'id': 97, 'seek': 63648, 'start': 643.12, 'end': 648.88, 'text': \" proclamation as I know you always have done in the past I'm very proud of today oh I mean\", 'tokens': [50696, 447, 41411, 382, 286, 458, 291, 1009, 362, 1096, 294, 264, 1791, 286, 478, 588, 4570, 295, 965, 1954, 286, 914, 50984], 'temperature': 0.0, 'avg_logprob': -0.18489126725630325, 'compression_ratio': 1.6293103448275863, 'no_speech_prob': 0.10826639831066132}, {'id': 98, 'seek': 63648, 'start': 648.88, 'end': 655.2, 'text': ' you made time magazine and newsweek once again as being a leader in terms of the cities that are', 'tokens': [50984, 291, 1027, 565, 11332, 293, 2583, 23188, 1564, 797, 382, 885, 257, 5263, 294, 2115, 295, 264, 6486, 300, 366, 51300], 'temperature': 0.0, 'avg_logprob': -0.18489126725630325, 'compression_ratio': 1.6293103448275863, 'no_speech_prob': 0.10826639831066132}, {'id': 99, 'seek': 63648, 'start': 655.2, 'end': 661.6, 'text': ' celebrating Indigenous peoples day I wanted to make a point out of that thank you councilman Lopez', 'tokens': [51300, 15252, 22699, 16915, 786, 286, 1415, 281, 652, 257, 935, 484, 295, 300, 1309, 291, 9209, 1601, 36077, 51620], 'temperature': 0.0, 'avg_logprob': -0.18489126725630325, 'compression_ratio': 1.6293103448275863, 'no_speech_prob': 0.10826639831066132}, {'id': 100, 'seek': 66160, 'start': 661.6800000000001, 'end': 666.8000000000001, 'text': ' and thank you for sponsoring this councilman martega this president I want to ask my name be added I', 'tokens': [50368, 293, 1309, 291, 337, 30311, 341, 9209, 1601, 12396, 6335, 341, 3868, 286, 528, 281, 1029, 452, 1315, 312, 3869, 286, 50624], 'temperature': 0.0, 'avg_logprob': -0.15855173948334483, 'compression_ratio': 1.6741071428571428, 'no_speech_prob': 0.046122997999191284}, {'id': 101, 'seek': 66160, 'start': 666.8000000000001, 'end': 674.8000000000001, 'text': \" don't think I could add much more to what councilman Lopez has shared with us I want to thank him\", 'tokens': [50624, 500, 380, 519, 286, 727, 909, 709, 544, 281, 437, 9209, 1601, 36077, 575, 5507, 365, 505, 286, 528, 281, 1309, 796, 51024], 'temperature': 0.0, 'avg_logprob': -0.15855173948334483, 'compression_ratio': 1.6741071428571428, 'no_speech_prob': 0.046122997999191284}, {'id': 102, 'seek': 66160, 'start': 674.8000000000001, 'end': 680.4, 'text': ' for bringing this forward and really just appreciate all the contributions that our', 'tokens': [51024, 337, 5062, 341, 2128, 293, 534, 445, 4449, 439, 264, 15725, 300, 527, 51304], 'temperature': 0.0, 'avg_logprob': -0.15855173948334483, 'compression_ratio': 1.6741071428571428, 'no_speech_prob': 0.046122997999191284}, {'id': 103, 'seek': 66160, 'start': 682.16, 'end': 689.52, 'text': ' Native American community has contributed to this great city and great state I worked in the', 'tokens': [51392, 15093, 2665, 1768, 575, 18434, 281, 341, 869, 2307, 293, 869, 1785, 286, 2732, 294, 264, 51760], 'temperature': 0.0, 'avg_logprob': -0.15855173948334483, 'compression_ratio': 1.6741071428571428, 'no_speech_prob': 0.046122997999191284}, {'id': 104, 'seek': 68952, 'start': 689.52, 'end': 694.64, 'text': \" lieutenant governor's office when the commission on Indian affairs was created and had the benefit\", 'tokens': [50364, 45521, 12965, 311, 3398, 562, 264, 9221, 322, 6427, 17478, 390, 2942, 293, 632, 264, 5121, 50620], 'temperature': 0.0, 'avg_logprob': -0.1857553526412609, 'compression_ratio': 1.708695652173913, 'no_speech_prob': 0.00534652266651392}, {'id': 105, 'seek': 68952, 'start': 694.64, 'end': 702.4, 'text': ' of being able to go down to the four corners for a peace treaty signing ceremony between the', 'tokens': [50620, 295, 885, 1075, 281, 352, 760, 281, 264, 1451, 12413, 337, 257, 4336, 24772, 13393, 12813, 1296, 264, 51008], 'temperature': 0.0, 'avg_logprob': -0.1857553526412609, 'compression_ratio': 1.708695652173913, 'no_speech_prob': 0.00534652266651392}, {'id': 106, 'seek': 68952, 'start': 702.4, 'end': 708.0799999999999, 'text': ' uites and the command cheese that had been sort of at odds with each other for about a hundred years', 'tokens': [51008, 344, 3324, 293, 264, 5622, 5399, 300, 632, 668, 1333, 295, 412, 17439, 365, 1184, 661, 337, 466, 257, 3262, 924, 51292], 'temperature': 0.0, 'avg_logprob': -0.1857553526412609, 'compression_ratio': 1.708695652173913, 'no_speech_prob': 0.00534652266651392}, {'id': 107, 'seek': 68952, 'start': 708.0799999999999, 'end': 715.28, 'text': ' and just being able to participate in that powwow was was pretty awesome so and for those of you who', 'tokens': [51292, 293, 445, 885, 1075, 281, 8197, 294, 300, 3388, 34354, 390, 390, 1238, 3476, 370, 293, 337, 729, 295, 291, 567, 51652], 'temperature': 0.0, 'avg_logprob': -0.1857553526412609, 'compression_ratio': 1.708695652173913, 'no_speech_prob': 0.00534652266651392}, {'id': 108, 'seek': 71528, 'start': 715.28, 'end': 722.48, 'text': \" continue to participate in the annual powwow it's it's such a great opportunity for everybody else\", 'tokens': [50364, 2354, 281, 8197, 294, 264, 9784, 3388, 34354, 309, 311, 309, 311, 1270, 257, 869, 2650, 337, 2201, 1646, 50724], 'temperature': 0.0, 'avg_logprob': -0.07649233192205429, 'compression_ratio': 1.60989010989011, 'no_speech_prob': 0.0017832198645919561}, {'id': 109, 'seek': 71528, 'start': 722.48, 'end': 729.68, 'text': ' to enjoy so many of the contributions of the culture I mean to see that the dance continues to be', 'tokens': [50724, 281, 2103, 370, 867, 295, 264, 15725, 295, 264, 3713, 286, 914, 281, 536, 300, 264, 4489, 6515, 281, 312, 51084], 'temperature': 0.0, 'avg_logprob': -0.07649233192205429, 'compression_ratio': 1.60989010989011, 'no_speech_prob': 0.0017832198645919561}, {'id': 110, 'seek': 71528, 'start': 729.68, 'end': 736.16, 'text': ' carried on as well as as the native language from generation to generation is just so incredible', 'tokens': [51084, 9094, 322, 382, 731, 382, 382, 264, 8470, 2856, 490, 5125, 281, 5125, 307, 445, 370, 4651, 51408], 'temperature': 0.0, 'avg_logprob': -0.07649233192205429, 'compression_ratio': 1.60989010989011, 'no_speech_prob': 0.0017832198645919561}, {'id': 111, 'seek': 73616, 'start': 736.16, 'end': 743.6, 'text': ' because in so many cultures you know people have come here and assimilated to the the', 'tokens': [50364, 570, 294, 370, 867, 12951, 291, 458, 561, 362, 808, 510, 293, 8249, 45678, 281, 264, 264, 50736], 'temperature': 0.0, 'avg_logprob': -0.10502446284059619, 'compression_ratio': 1.763157894736842, 'no_speech_prob': 0.001483136205933988}, {'id': 112, 'seek': 73616, 'start': 744.48, 'end': 750.7199999999999, 'text': ' you know the norms here and they lose their language and and lose a lot of the culture', 'tokens': [50780, 291, 458, 264, 24357, 510, 293, 436, 3624, 641, 2856, 293, 293, 3624, 257, 688, 295, 264, 3713, 51092], 'temperature': 0.0, 'avg_logprob': -0.10502446284059619, 'compression_ratio': 1.763157894736842, 'no_speech_prob': 0.001483136205933988}, {'id': 113, 'seek': 73616, 'start': 750.7199999999999, 'end': 760.72, 'text': \" and in the native community that that hasn't happened that has that you know commitment to just\", 'tokens': [51092, 293, 294, 264, 8470, 1768, 300, 300, 6132, 380, 2011, 300, 575, 300, 291, 458, 8371, 281, 445, 51592], 'temperature': 0.0, 'avg_logprob': -0.10502446284059619, 'compression_ratio': 1.763157894736842, 'no_speech_prob': 0.001483136205933988}, {'id': 114, 'seek': 76072, 'start': 760.72, 'end': 767.52, 'text': \" passing that on from generation to generation is is so important and so I'm happy to be a\", 'tokens': [50364, 8437, 300, 322, 490, 5125, 281, 5125, 307, 307, 370, 1021, 293, 370, 286, 478, 2055, 281, 312, 257, 50704], 'temperature': 0.0, 'avg_logprob': -0.1867177513208282, 'compression_ratio': 1.724770642201835, 'no_speech_prob': 0.00935022160410881}, {'id': 115, 'seek': 76072, 'start': 767.52, 'end': 773.9200000000001, 'text': ' co-sponsor of this tonight thank you all right thank you councilman or take your councilwoman can', 'tokens': [50704, 598, 12, 4952, 892, 284, 295, 341, 4440, 1309, 291, 439, 558, 1309, 291, 9209, 1601, 420, 747, 428, 9209, 18339, 393, 51024], 'temperature': 0.0, 'avg_logprob': -0.1867177513208282, 'compression_ratio': 1.724770642201835, 'no_speech_prob': 0.00935022160410881}, {'id': 116, 'seek': 76072, 'start': 773.9200000000001, 'end': 779.12, 'text': ' you thank you very much and I also want to thank my colleague for bringing this forward and I', 'tokens': [51024, 291, 1309, 291, 588, 709, 293, 286, 611, 528, 281, 1309, 452, 13532, 337, 5062, 341, 2128, 293, 286, 51284], 'temperature': 0.0, 'avg_logprob': -0.1867177513208282, 'compression_ratio': 1.724770642201835, 'no_speech_prob': 0.00935022160410881}, {'id': 117, 'seek': 76072, 'start': 779.12, 'end': 784.8000000000001, 'text': ' I just wanted to to say word to artists about how beautiful and moving I thought this logo was', 'tokens': [51284, 286, 445, 1415, 281, 281, 584, 1349, 281, 6910, 466, 577, 2238, 293, 2684, 286, 1194, 341, 9699, 390, 51568], 'temperature': 0.0, 'avg_logprob': -0.1867177513208282, 'compression_ratio': 1.724770642201835, 'no_speech_prob': 0.00935022160410881}, {'id': 118, 'seek': 78480, 'start': 784.8, 'end': 791.04, 'text': ' and your description of it and I think one of the things that is clear is you know the words', 'tokens': [50364, 293, 428, 3855, 295, 309, 293, 286, 519, 472, 295, 264, 721, 300, 307, 1850, 307, 291, 458, 264, 2283, 50676], 'temperature': 0.0, 'avg_logprob': -0.05885327303851092, 'compression_ratio': 1.7482014388489209, 'no_speech_prob': 0.0030007974710315466}, {'id': 119, 'seek': 78480, 'start': 791.04, 'end': 796.16, 'text': \" sometimes don't convey the power of imagery or music or the other pieces that make up culture\", 'tokens': [50676, 2171, 500, 380, 16965, 264, 1347, 295, 24340, 420, 1318, 420, 264, 661, 3755, 300, 652, 493, 3713, 50932], 'temperature': 0.0, 'avg_logprob': -0.05885327303851092, 'compression_ratio': 1.7482014388489209, 'no_speech_prob': 0.0030007974710315466}, {'id': 120, 'seek': 78480, 'start': 796.16, 'end': 802.3199999999999, 'text': ' and so I think the art is so important and when you talked about water I was also thinking about land', 'tokens': [50932, 293, 370, 286, 519, 264, 1523, 307, 370, 1021, 293, 562, 291, 2825, 466, 1281, 286, 390, 611, 1953, 466, 2117, 51240], 'temperature': 0.0, 'avg_logprob': -0.05885327303851092, 'compression_ratio': 1.7482014388489209, 'no_speech_prob': 0.0030007974710315466}, {'id': 121, 'seek': 78480, 'start': 802.3199999999999, 'end': 807.68, 'text': ' and I guess I just wanted to say thank you many of the Native American peoples of Colorado have been', 'tokens': [51240, 293, 286, 2041, 286, 445, 1415, 281, 584, 1309, 291, 867, 295, 264, 15093, 2665, 16915, 295, 15786, 362, 668, 51508], 'temperature': 0.0, 'avg_logprob': -0.05885327303851092, 'compression_ratio': 1.7482014388489209, 'no_speech_prob': 0.0030007974710315466}, {'id': 122, 'seek': 78480, 'start': 807.68, 'end': 813.1999999999999, 'text': ' at the forefront or actually nationally of defending some of the the public lands that have been', 'tokens': [51508, 412, 264, 27287, 420, 767, 27652, 295, 21377, 512, 295, 264, 264, 1908, 5949, 300, 362, 668, 51784], 'temperature': 0.0, 'avg_logprob': -0.05885327303851092, 'compression_ratio': 1.7482014388489209, 'no_speech_prob': 0.0030007974710315466}, {'id': 123, 'seek': 81320, 'start': 813.2, 'end': 818.24, 'text': ' protected over the last few years that are under attack right now and their places that you', 'tokens': [50364, 10594, 670, 264, 1036, 1326, 924, 300, 366, 833, 2690, 558, 586, 293, 641, 3190, 300, 291, 50616], 'temperature': 0.0, 'avg_logprob': -0.0690609073638916, 'compression_ratio': 1.8015267175572518, 'no_speech_prob': 0.00039179835584945977}, {'id': 124, 'seek': 81320, 'start': 818.96, 'end': 824.48, 'text': ' the communities have fought to protect but that everyone gets to enjoy and so I just think that', 'tokens': [50652, 264, 4456, 362, 11391, 281, 2371, 457, 300, 1518, 2170, 281, 2103, 293, 370, 286, 445, 519, 300, 50928], 'temperature': 0.0, 'avg_logprob': -0.0690609073638916, 'compression_ratio': 1.8015267175572518, 'no_speech_prob': 0.00039179835584945977}, {'id': 125, 'seek': 81320, 'start': 824.48, 'end': 830.24, 'text': \" it's an example of where cultural preservation intersects with environmental protection with\", 'tokens': [50928, 309, 311, 364, 1365, 295, 689, 6988, 27257, 27815, 82, 365, 8303, 6334, 365, 51216], 'temperature': 0.0, 'avg_logprob': -0.0690609073638916, 'compression_ratio': 1.8015267175572518, 'no_speech_prob': 0.00039179835584945977}, {'id': 126, 'seek': 81320, 'start': 830.24, 'end': 835.9200000000001, 'text': ' you know recreation and all of the other ways that that public lands are so important and so I', 'tokens': [51216, 291, 458, 31573, 293, 439, 295, 264, 661, 2098, 300, 300, 1908, 5949, 366, 370, 1021, 293, 370, 286, 51500], 'temperature': 0.0, 'avg_logprob': -0.0690609073638916, 'compression_ratio': 1.8015267175572518, 'no_speech_prob': 0.00039179835584945977}, {'id': 127, 'seek': 81320, 'start': 835.9200000000001, 'end': 840.6400000000001, 'text': ' think I just wanted to say thank you for that because I think we have some very sacred places in', 'tokens': [51500, 519, 286, 445, 1415, 281, 584, 1309, 291, 337, 300, 570, 286, 519, 321, 362, 512, 588, 15757, 3190, 294, 51736], 'temperature': 0.0, 'avg_logprob': -0.0690609073638916, 'compression_ratio': 1.8015267175572518, 'no_speech_prob': 0.00039179835584945977}, {'id': 128, 'seek': 84064, 'start': 840.64, 'end': 846.56, 'text': \" our country that are at risk right now and so as we celebrate I appreciate that there's still\", 'tokens': [50364, 527, 1941, 300, 366, 412, 3148, 558, 586, 293, 370, 382, 321, 8098, 286, 4449, 300, 456, 311, 920, 50660], 'temperature': 0.0, 'avg_logprob': -0.1588403961875222, 'compression_ratio': 1.7568807339449541, 'no_speech_prob': 0.0022360789589583874}, {'id': 129, 'seek': 84064, 'start': 846.56, 'end': 852.4, 'text': ' a piece of resistance in here and I think that I just want to mention a solidarity and I mentioned', 'tokens': [50660, 257, 2522, 295, 7335, 294, 510, 293, 286, 519, 300, 286, 445, 528, 281, 2152, 257, 27220, 293, 286, 2835, 50952], 'temperature': 0.0, 'avg_logprob': -0.1588403961875222, 'compression_ratio': 1.7568807339449541, 'no_speech_prob': 0.0022360789589583874}, {'id': 130, 'seek': 84064, 'start': 852.4, 'end': 860.24, 'text': ' a feeling of solidarity with that resistance so thank you and happy confluence week thank you', 'tokens': [50952, 257, 2633, 295, 27220, 365, 300, 7335, 370, 1309, 291, 293, 2055, 1497, 40432, 1243, 1309, 291, 51344], 'temperature': 0.0, 'avg_logprob': -0.1588403961875222, 'compression_ratio': 1.7568807339449541, 'no_speech_prob': 0.0022360789589583874}, {'id': 131, 'seek': 84064, 'start': 860.24, 'end': 869.36, 'text': \" councilman can each and see you know other comments I'll just say a couple and in a time of such\", 'tokens': [51344, 9209, 1601, 393, 1184, 293, 536, 291, 458, 661, 3053, 286, 603, 445, 584, 257, 1916, 293, 294, 257, 565, 295, 1270, 51800], 'temperature': 0.0, 'avg_logprob': -0.1588403961875222, 'compression_ratio': 1.7568807339449541, 'no_speech_prob': 0.0022360789589583874}, {'id': 132, 'seek': 86936, 'start': 869.36, 'end': 878.24, 'text': \" divisive ugliness and just despicable behavior from our leadership the reason I'm so supportive\", 'tokens': [50364, 25974, 488, 344, 7191, 1324, 293, 445, 4887, 43023, 5223, 490, 527, 5848, 264, 1778, 286, 478, 370, 14435, 50808], 'temperature': 0.0, 'avg_logprob': -0.08928833310566252, 'compression_ratio': 1.5775401069518717, 'no_speech_prob': 0.00038856148603372276}, {'id': 133, 'seek': 86936, 'start': 878.24, 'end': 884.96, 'text': ' indigenous peoples days because it means inclusivity it means respecting all respecting those who have', 'tokens': [50808, 15511, 16915, 1708, 570, 309, 1355, 17204, 4253, 309, 1355, 41968, 439, 41968, 729, 567, 362, 51144], 'temperature': 0.0, 'avg_logprob': -0.08928833310566252, 'compression_ratio': 1.5775401069518717, 'no_speech_prob': 0.00038856148603372276}, {'id': 134, 'seek': 86936, 'start': 884.96, 'end': 893.6800000000001, 'text': ' been silenced on purpose for a long time and whose history has not been told and so we celebrate', 'tokens': [51144, 668, 3425, 14672, 322, 4334, 337, 257, 938, 565, 293, 6104, 2503, 575, 406, 668, 1907, 293, 370, 321, 8098, 51580], 'temperature': 0.0, 'avg_logprob': -0.08928833310566252, 'compression_ratio': 1.5775401069518717, 'no_speech_prob': 0.00038856148603372276}, {'id': 135, 'seek': 89368, 'start': 893.68, 'end': 901.92, 'text': ' inclusivity in the face of such evil times honestly', 'tokens': [50364, 17204, 4253, 294, 264, 1851, 295, 1270, 6724, 1413, 6095, 50776], 'temperature': 0.0, 'avg_logprob': -0.35697768284724307, 'compression_ratio': 0.9622641509433962, 'no_speech_prob': 0.02330135926604271}], 'language': 'en'}\n"
          ]
        }
      ]
    },
    {
      "cell_type": "code",
      "source": [
        "system_message = \"You are an assistant that produces minutes of meetings from transcripts, with summary, key discussion points, takeaways and action items with owners, in markdown.\"\n",
        "user_message = f\"Below is an extract transcript of a Denver council meeting. Please write minutes in markdown, including a summary with attendees, location and date; discussion points; takeaways; and action items with owners.\\n{transcription}\"\n",
        "messages = [{\"role\":\"system\" , \"content\":system_message} , {\"role\":\"user\" , \"content\":user_message}]"
      ],
      "metadata": {
        "id": "SVUthbAEPJks"
      },
      "execution_count": 10,
      "outputs": []
    },
    {
      "cell_type": "code",
      "source": [
        "quant_config = BitsAndBytesConfig(\n",
        "    load_in_4bit=True,\n",
        "    bnb_4bit_use_double_quant=True,\n",
        ")"
      ],
      "metadata": {
        "id": "iEXQnPthSQP5"
      },
      "execution_count": 14,
      "outputs": []
    },
    {
      "cell_type": "code",
      "source": [
        "tokenizer = AutoTokenizer.from_pretrained(Falcon_model)\n",
        "tokenizer.pad_token = tokenizer.eos_token\n",
        "inputs = tokenizer.apply_chat_template(conversation = messages , return_tensors=\"pt\" , padding = True)\n",
        "attention_mask = inputs.ne(tokenizer.pad_token_id)\n",
        "streamer = TextStreamer(tokenizer)\n",
        "model1 = AutoModelForCausalLM.from_pretrained(Falcon_model , device_map = \"auto\" )\n",
        "outputs = model1.generate(inputs , max_new_tokens = 1024 , streamer = streamer)"
      ],
      "metadata": {
        "colab": {
          "base_uri": "https://localhost:8080/",
          "height": 86,
          "referenced_widgets": [
            "f1841a74f1474265873f3c5aab844db7",
            "c3b8448ba5394244ab1111f61f418b7d",
            "4736301713654cd7a420ea879f37d383",
            "00c41fb5b7634c568ac1dee92791d57b",
            "6f05be45844d4c3a815e40fdc4a594ab",
            "b3adba90a87f45b6833a6ac3b12b890a",
            "a90c6302ee3d4fa29603e73cf3d4232e",
            "c848f73447254b88ac6ce37a876c0c1a",
            "f8189287db5f4bb29b47b3e9156c30d0",
            "42a73b8f076a438d8f1fb10dc8714e93",
            "5d8f460ab0b141acb9af3574a441ff72"
          ]
        },
        "id": "zvyu5yJmSkCG",
        "outputId": "ca4f665a-1070-4678-9d9a-aaa4ea47ed97"
      },
      "execution_count": null,
      "outputs": [
        {
          "output_type": "stream",
          "name": "stderr",
          "text": [
            "Token indices sequence length is longer than the specified maximum sequence length for this model (29660 > 2048). Running this sequence through the model will result in indexing errors\n"
          ]
        },
        {
          "output_type": "display_data",
          "data": {
            "text/plain": [
              "Loading checkpoint shards:   0%|          | 0/2 [00:00<?, ?it/s]"
            ],
            "application/vnd.jupyter.widget-view+json": {
              "version_major": 2,
              "version_minor": 0,
              "model_id": "f1841a74f1474265873f3c5aab844db7"
            }
          },
          "metadata": {}
        }
      ]
    }
  ]
}